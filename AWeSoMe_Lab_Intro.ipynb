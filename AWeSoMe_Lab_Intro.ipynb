{
  "nbformat": 4,
  "nbformat_minor": 0,
  "metadata": {
    "colab": {
      "provenance": []
    },
    "kernelspec": {
      "name": "python3",
      "display_name": "Python 3"
    },
    "language_info": {
      "name": "python"
    }
  },
  "cells": [
    {
      "cell_type": "markdown",
      "source": [
        "# AWeSoMe Lab Intro and Setup Assignment Notebook\n",
        "\n",
        "This is the Jupyter notebook for the HMC AWeSoMe Lab Intro and Setup Assignment \"Hello, Convokit\" ([writeup here](https://docs.google.com/document/d/1sMnhaWcx5VgZDhnTW4xSj0FmjITdqFqoMXMWCEoHyoE/edit?usp=sharing)). Solutions to coding questions _and_ written questions should be put here (you can use markdown cells for the written questions)."
      ],
      "metadata": {
        "id": "x58TOTJJ3ZxV"
      }
    },
    {
      "cell_type": "markdown",
      "source": [
        "## Part 1: Load a Corpus!\n",
        "\n",
        "See the [writeup for Part 1](https://docs.google.com/document/d/1sMnhaWcx5VgZDhnTW4xSj0FmjITdqFqoMXMWCEoHyoE/edit?tab=t.0#heading=h.yhpnne8a6ns3) before continuing."
      ],
      "metadata": {
        "id": "7yrwOWZf3_DQ"
      }
    },
    {
      "cell_type": "code",
      "source": [
        "from convokit import Corpus, download"
      ],
      "metadata": {
        "id": "C2OZwCQ14ey_"
      },
      "execution_count": null,
      "outputs": []
    },
    {
      "cell_type": "code",
      "source": [
        "reddit_corpus = Corpus(filename=download(\"reddit-corpus-small\"))"
      ],
      "metadata": {
        "id": "P9v2_96u4kBm"
      },
      "execution_count": null,
      "outputs": []
    },
    {
      "cell_type": "code",
      "source": [
        "reddit_corpus.print_summary_stats()"
      ],
      "metadata": {
        "id": "22ReGax85eKf"
      },
      "execution_count": null,
      "outputs": []
    },
    {
      "cell_type": "markdown",
      "source": [
        "## Part 2: Re-implement print_summary_stats\n",
        "\n",
        "See the [writeup for Part 2](https://docs.google.com/document/d/1sMnhaWcx5VgZDhnTW4xSj0FmjITdqFqoMXMWCEoHyoE/edit?tab=t.0#heading=h.jz5jp4t11fwd) before continuing."
      ],
      "metadata": {
        "id": "XYsPQf4H57_6"
      }
    },
    {
      "cell_type": "code",
      "source": [
        "# Here's how you would iterate over Speakers:\n",
        "n_speakers = 0\n",
        "for speaker in reddit_corpus.iter_speakers():\n",
        "    n_speakers += 1\n",
        "print(n_speakers)"
      ],
      "metadata": {
        "id": "6TiSCzjV5gMF"
      },
      "execution_count": null,
      "outputs": []
    },
    {
      "cell_type": "markdown",
      "source": [
        "TASK: In the two code cells below, modify the provided code to count Utterances and Speakers."
      ],
      "metadata": {
        "id": "JJzJanr5oJYF"
      }
    },
    {
      "cell_type": "code",
      "source": [],
      "metadata": {
        "id": "zCpH2f8cCxIq"
      },
      "execution_count": null,
      "outputs": []
    },
    {
      "cell_type": "code",
      "source": [],
      "metadata": {
        "id": "o7nrTtLSoTYc"
      },
      "execution_count": null,
      "outputs": []
    },
    {
      "cell_type": "markdown",
      "source": [
        "## Part 3: Working with metadata\n",
        "\n",
        "See the [writeup for Part 3](https://docs.google.com/document/d/1sMnhaWcx5VgZDhnTW4xSj0FmjITdqFqoMXMWCEoHyoE/edit?tab=t.0#heading=h.ciwzim5uquvi) before continuing."
      ],
      "metadata": {
        "id": "HzJQnF6UpmHe"
      }
    },
    {
      "cell_type": "code",
      "source": [
        "# Here's an example of accessing Conversation metadata\n",
        "# (demonstrated on a randomly selected Conversation)\n",
        "c = reddit_corpus.random_conversation()\n",
        "print(c.meta[\"title\"])"
      ],
      "metadata": {
        "id": "ykdum6eYpsBL"
      },
      "execution_count": null,
      "outputs": []
    },
    {
      "cell_type": "markdown",
      "source": [
        "TASK: Using conversation-level metadata and the iterators you practiced in Part 2, compute (a) the total number of subreddits in the Corpus, and (b) the 5 subreddits with the most conversations (along with the exact number of conversations in each of those 5 subreddits)."
      ],
      "metadata": {
        "id": "3i0nXwolrXV_"
      }
    },
    {
      "cell_type": "code",
      "source": [],
      "metadata": {
        "id": "VtwLOWtjrpor"
      },
      "execution_count": null,
      "outputs": []
    },
    {
      "cell_type": "markdown",
      "source": [
        "## Part 4: Transformers, roll out!\n",
        "\n",
        "See the [writeup for Part 4](https://docs.google.com/document/d/1sMnhaWcx5VgZDhnTW4xSj0FmjITdqFqoMXMWCEoHyoE/edit?tab=t.0#heading=h.lhawg1ufgxev) before continuing."
      ],
      "metadata": {
        "id": "SXlgQltmtpHw"
      }
    },
    {
      "cell_type": "code",
      "source": [
        "# Here's an example of applying a simple Transformation\n",
        "# (the TextCleaner, which does basic text standardization such as lowercasing everything)\n",
        "from convokit import TextCleaner\n",
        "cleaner = TextCleaner(replace_text=False)\n",
        "reddit_corpus = cleaner.transform(reddit_corpus)\n",
        "utt = reddit_corpus.random_utterance()\n",
        "print(\"Original text:\", utt.text)\n",
        "print(\"Cleaned text:\", utt.meta[\"cleaned\"])"
      ],
      "metadata": {
        "id": "BAwAgguauA40"
      },
      "execution_count": null,
      "outputs": []
    },
    {
      "cell_type": "markdown",
      "source": [
        "TASK: Use the [Fighting Words Transformer](https://convokit.cornell.edu/documentation/fightingwords.html) to generate a plot comparing the usage of words in the subreddits \"nfl\" and \"programming\"."
      ],
      "metadata": {
        "id": "QVWYqhUBx80i"
      }
    },
    {
      "cell_type": "code",
      "source": [],
      "metadata": {
        "id": "zJI7dGZIwOuB"
      },
      "execution_count": null,
      "outputs": []
    },
    {
      "cell_type": "markdown",
      "source": [
        "## Part 5: Your turn!\n",
        "\n",
        "See the [writeup for Part 5](https://docs.google.com/document/d/1sMnhaWcx5VgZDhnTW4xSj0FmjITdqFqoMXMWCEoHyoE/edit?tab=t.0#heading=h.ep64m0asidvd) before continuing."
      ],
      "metadata": {
        "id": "ZWVw_K96At9c"
      }
    },
    {
      "cell_type": "markdown",
      "source": [
        "Before you write any code, please write down in this text cell what groups you have chosen to compare, and what hypotheses you came up with beforehand."
      ],
      "metadata": {
        "id": "lNTyhQ9xAy4W"
      }
    },
    {
      "cell_type": "code",
      "source": [
        "# Add your code here.\n",
        "# (You may also add as many additional code cells as you want)\n"
      ],
      "metadata": {
        "id": "9hZ17mlgA8-c"
      },
      "execution_count": null,
      "outputs": []
    },
    {
      "cell_type": "markdown",
      "source": [
        "Now write down in this text cell some things that you found. How did the results compare to your expectations? Was there anything that surprised you? Is there anything you would do differently?"
      ],
      "metadata": {
        "id": "_EWvgMq3BC5_"
      }
    }
  ]
}