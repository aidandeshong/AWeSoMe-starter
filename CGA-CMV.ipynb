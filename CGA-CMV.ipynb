{
 "cells": [
  {
   "cell_type": "markdown",
   "id": "9050c916",
   "metadata": {},
   "source": [
    "Exploration of conversations from the Conversations Gone Awry Dataset - Reddit CMV version (CGA-CMV).\n",
    "https://convokit.cornell.edu/documentation/awry_cmv.html "
   ]
  },
  {
   "cell_type": "code",
   "execution_count": 1,
   "id": "1888bbac",
   "metadata": {},
   "outputs": [
    {
     "name": "stdout",
     "output_type": "stream",
     "text": [
      "Downloading conversations-gone-awry-cmv-corpus to /home/ssegal/.convokit/saved-corpora/conversations-gone-awry-cmv-corpus\n",
      "Downloading conversations-gone-awry-cmv-corpus from http://zissou.infosci.cornell.edu/convokit/datasets/conversations-gone-awry-cmv-corpus/conversations-gone-awry-cmv-corpus.zip (51.5MB)... Done\n"
     ]
    }
   ],
   "source": [
    "from convokit import Corpus, download\n",
    "corpus = Corpus(filename=download(\"conversations-gone-awry-cmv-corpus\"))"
   ]
  },
  {
   "cell_type": "code",
   "execution_count": null,
   "id": "20f6ed33",
   "metadata": {},
   "outputs": [],
   "source": [
    "# upvoted\n",
    "pos = [utt for utt in corpus.iter_utterances() if utt.meta['score']>0]\n",
    "# downvoted\n",
    "neg = [utt for utt in corpus.iter_utterances() if utt.meta['score']<0]\n",
    "\n",
    "pos_corpus = Corpus(utterances=pos)\n",
    "neg_corpus = Corpus(utterances=neg)"
   ]
  },
  {
   "cell_type": "code",
   "execution_count": 10,
   "id": "6613100b",
   "metadata": {},
   "outputs": [
    {
     "name": "stdout",
     "output_type": "stream",
     "text": [
      "****RAND POS CONVO****\n",
      "/r/changemyview/comments/8lp9po/cmv_fgm_is_illegal_therefore_circumcision_should/dzhgeb1/\n",
      "1527132817: Speaker(id: 'dio1632', vectors: [], meta: ConvoKitMeta({'num_posts': 0, 'num_comments': 38})): I won't debate whether or not male circumcision should be legal/illegal **or** whether or not FGM should be legal/illegal. I have views on the subject, but that is not my point of disagreement here. That's a whole separate can of worms. But your premise suggests an automatic equivalency between FGM and male circumcision that does *not* hold.\n",
      "\n",
      "Male circumcision is practiced immediately after birth. At the point of life which is clearly and firmly part of life that is forgotten as part of \"childhood amnesia\" (the tendency in our species to hold no concrete memories before age 5, except occasional memories of memories). And it is conducted onle once per infant.\n",
      "\n",
      "FGM, on the other hand, for a variety of reasons, is practiced on girls old enough to remember, speak, and object. The great bulk of FGM is carried out between age 6 and 15. And when it is practiced on infants, there is an expectation of several repeated surguries to open and close -- as the child grows older -- needed in order to prevent anything resembling a vulva from growing back, and to permit intercourse.\n",
      "\n",
      "As such, there is close to zero similarity, in practice, between these very different procedures.\n",
      "\n",
      "There are, of course, various medical arguments about the utility for male circumcision. Though the case is very far from proven that there is medical advantage for those who are circumcised, it is a matter of debate in the medical community. The only advantages argued for FGM are immediate social advantages in establishing virginity or complying with custom, and *many* girls who undergo FGM contract serious infection from the process (while this rarely happens with male circumcision).\n",
      "/r/changemyview/comments/8lp9po/cmv_fgm_is_illegal_therefore_circumcision_should/dzhhbc9/\n",
      "1527133912: Speaker(id: 'CanadianAsshole1', vectors: [], meta: ConvoKitMeta({'num_posts': 12, 'num_comments': 335})): In practice, of course they vary. However, my logic is simple:\n",
      "\n",
      "Even though FGM is usually performed on older children, it is still illegal to perform all types of FGM on newborn girls, and some types of FGM are equivalent to circumcision. Therefore, it should be illegal to perform circumcision on newborn boys.\n",
      "\n",
      "As for your point about medical benefits, I won't dispute that. The thing is, here in Canada it is not considered to  be a necessary medical procedure because the benefits are close to negligible. Therefore it isn't covered by universal healthcare and parents pay for it out of pocket. In the eyes of the law circumcision is a religious/aesthetic choice, therefore the whole \"medical benefits\" argument is moot, at least in Canada.\n",
      "\n",
      "Does my argument make sense?\n",
      "\n",
      "Also, you are wrong that male circumcision always occurs at birth. Little known fact: muslims circumcise too, it is not **required**, strictly speaking, but it is strongly encouraged. Muslim boys are not necessarily circumcised at birth, often they are circumcised as children, where they DO remember the experience. This is indistinguishable from the second type of FGM, yet one practice is legal and widely accepted, while the other is illegal and widely condemned.\n",
      "/r/changemyview/comments/8lp9po/cmv_fgm_is_illegal_therefore_circumcision_should/dzhhsac/\n",
      "1527134504: Speaker(id: 'dio1632', vectors: [], meta: ConvoKitMeta({'num_posts': 0, 'num_comments': 38})): Interesting point.\n",
      "\n",
      "I am not sure that I quite understand how or why two things which, in practice, vary, can or should be treated equivalently simply because they are *theoretically* equivalent.\n",
      "\n",
      "For example: In **theory** oxycodone and scilliroside ought to be treated exactly the same under the law in Canada, because each of them can lead to death if ingested. But in **practice** scilliroside is sold over the shelf, because few people *in practice* attempt to ingest it.\n",
      "\n",
      "If *everything* that has a rough theoretical equivalency to something else that is illegal were, itself, made illegal, then neither you or I (in our respective North American countries) would be able to do much of anything at all.\n",
      "\n",
      "Under the theories of government that prevail in Canada and the US, this is why legislators are given freedom to act in the public interest to change legislation as circumstances in their respective countries change -- because what happens *in practice* is actually deemed important in detemining what legislation citizens should be subject to.\n"
     ]
    }
   ],
   "source": [
    "\n",
    "randPosConvo = pos_corpus.random_conversation();\n",
    "print(\"****RAND POS CONVO****\")\n",
    "for utt in randPosConvo.iter_utterances():\n",
    "    print(utt.meta[\"permalink\"])\n",
    "    print(str(utt.timestamp)+ \": \" + str(utt.speaker) + \": \" + str(utt.text))\n",
    "\n",
    "\n",
    "randNegConvo = neg_corpus.random_conversation();\n",
    "\n"
   ]
  }
 ],
 "metadata": {
  "kernelspec": {
   "display_name": "Python 3",
   "language": "python",
   "name": "python3"
  },
  "language_info": {
   "codemirror_mode": {
    "name": "ipython",
    "version": 3
   },
   "file_extension": ".py",
   "mimetype": "text/x-python",
   "name": "python",
   "nbconvert_exporter": "python",
   "pygments_lexer": "ipython3",
   "version": "3.13.2"
  }
 },
 "nbformat": 4,
 "nbformat_minor": 5
}
